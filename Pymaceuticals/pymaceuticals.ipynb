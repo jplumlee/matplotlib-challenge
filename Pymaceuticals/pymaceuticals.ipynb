{
 "cells": [
  {
   "cell_type": "markdown",
   "metadata": {},
   "source": [
    "## Observations and Insights "
   ]
  },
  {
   "cell_type": "markdown",
   "metadata": {},
   "source": []
  },
  {
   "cell_type": "code",
   "execution_count": 1,
   "metadata": {},
   "outputs": [
    {
     "data": {
      "text/html": [
       "<div>\n",
       "<style scoped>\n",
       "    .dataframe tbody tr th:only-of-type {\n",
       "        vertical-align: middle;\n",
       "    }\n",
       "\n",
       "    .dataframe tbody tr th {\n",
       "        vertical-align: top;\n",
       "    }\n",
       "\n",
       "    .dataframe thead th {\n",
       "        text-align: right;\n",
       "    }\n",
       "</style>\n",
       "<table border=\"1\" class=\"dataframe\">\n",
       "  <thead>\n",
       "    <tr style=\"text-align: right;\">\n",
       "      <th></th>\n",
       "      <th>Mouse ID</th>\n",
       "      <th>Drug Regimen</th>\n",
       "      <th>Sex</th>\n",
       "      <th>Age_months</th>\n",
       "      <th>Weight (g)</th>\n",
       "      <th>Timepoint</th>\n",
       "      <th>Tumor Volume (mm3)</th>\n",
       "      <th>Metastatic Sites</th>\n",
       "    </tr>\n",
       "  </thead>\n",
       "  <tbody>\n",
       "    <tr>\n",
       "      <th>0</th>\n",
       "      <td>k403</td>\n",
       "      <td>Ramicane</td>\n",
       "      <td>Male</td>\n",
       "      <td>21</td>\n",
       "      <td>16</td>\n",
       "      <td>0</td>\n",
       "      <td>45.000000</td>\n",
       "      <td>0</td>\n",
       "    </tr>\n",
       "    <tr>\n",
       "      <th>1</th>\n",
       "      <td>k403</td>\n",
       "      <td>Ramicane</td>\n",
       "      <td>Male</td>\n",
       "      <td>21</td>\n",
       "      <td>16</td>\n",
       "      <td>5</td>\n",
       "      <td>38.825898</td>\n",
       "      <td>0</td>\n",
       "    </tr>\n",
       "    <tr>\n",
       "      <th>2</th>\n",
       "      <td>k403</td>\n",
       "      <td>Ramicane</td>\n",
       "      <td>Male</td>\n",
       "      <td>21</td>\n",
       "      <td>16</td>\n",
       "      <td>10</td>\n",
       "      <td>35.014271</td>\n",
       "      <td>1</td>\n",
       "    </tr>\n",
       "    <tr>\n",
       "      <th>3</th>\n",
       "      <td>k403</td>\n",
       "      <td>Ramicane</td>\n",
       "      <td>Male</td>\n",
       "      <td>21</td>\n",
       "      <td>16</td>\n",
       "      <td>15</td>\n",
       "      <td>34.223992</td>\n",
       "      <td>1</td>\n",
       "    </tr>\n",
       "    <tr>\n",
       "      <th>4</th>\n",
       "      <td>k403</td>\n",
       "      <td>Ramicane</td>\n",
       "      <td>Male</td>\n",
       "      <td>21</td>\n",
       "      <td>16</td>\n",
       "      <td>20</td>\n",
       "      <td>32.997729</td>\n",
       "      <td>1</td>\n",
       "    </tr>\n",
       "  </tbody>\n",
       "</table>\n",
       "</div>"
      ],
      "text/plain": [
       "  Mouse ID Drug Regimen   Sex  Age_months  Weight (g)  Timepoint  \\\n",
       "0     k403     Ramicane  Male          21          16          0   \n",
       "1     k403     Ramicane  Male          21          16          5   \n",
       "2     k403     Ramicane  Male          21          16         10   \n",
       "3     k403     Ramicane  Male          21          16         15   \n",
       "4     k403     Ramicane  Male          21          16         20   \n",
       "\n",
       "   Tumor Volume (mm3)  Metastatic Sites  \n",
       "0           45.000000                 0  \n",
       "1           38.825898                 0  \n",
       "2           35.014271                 1  \n",
       "3           34.223992                 1  \n",
       "4           32.997729                 1  "
      ]
     },
     "execution_count": 1,
     "metadata": {},
     "output_type": "execute_result"
    }
   ],
   "source": [
    "# Dependencies and Setup\n",
    "import matplotlib.pyplot as plt\n",
    "import pandas as pd\n",
    "import scipy.stats as st\n",
    "import numpy as np\n",
    "\n",
    "# Study data files\n",
    "mouse_metadata_path = \"data/Mouse_metadata.csv\"\n",
    "study_results_path = \"data/Study_results.csv\"\n",
    "\n",
    "# Read the mouse data and the study results\n",
    "mouse_metadata = pd.read_csv(mouse_metadata_path)\n",
    "study_results = pd.read_csv(study_results_path)\n",
    "\n",
    "# Combine the data into a single dataset\n",
    "# Might need to use outer join to clear all duplicate\n",
    "mouse_study_merge = pd.merge(mouse_metadata, study_results, on='Mouse ID')\n",
    "\n",
    "# Display the data table for preview\n",
    "mouse_study_merge.head()"
   ]
  },
  {
   "cell_type": "code",
   "execution_count": 2,
   "metadata": {},
   "outputs": [
    {
     "data": {
      "text/plain": [
       "249"
      ]
     },
     "execution_count": 2,
     "metadata": {},
     "output_type": "execute_result"
    }
   ],
   "source": [
    "# Checking the number of mice.\n",
    "number_of_mice = mouse_study_merge['Mouse ID'].nunique()\n",
    "number_of_mice"
   ]
  },
  {
   "cell_type": "code",
   "execution_count": 3,
   "metadata": {},
   "outputs": [
    {
     "data": {
      "text/plain": [
       "g989    13\n",
       "l509    10\n",
       "k862    10\n",
       "m550    10\n",
       "a401    10\n",
       "Name: Mouse ID, dtype: int64"
      ]
     },
     "execution_count": 3,
     "metadata": {},
     "output_type": "execute_result"
    }
   ],
   "source": [
    "# Getting the duplicate mice by ID number that shows up for Mouse ID and Timepoint. \n",
    "mouse_study_merge['Mouse ID'].value_counts().head()"
   ]
  },
  {
   "cell_type": "code",
   "execution_count": 4,
   "metadata": {},
   "outputs": [],
   "source": [
    "# https://stackoverflow.com/questions/13851535/delete-rows-from-a-pandas-dataframe-based-on-a-conditional-expression-involving\n",
    "# Create a clean DataFrame by dropping the duplicate mouse by its ID.\n",
    "mouse_study_index = mouse_study_merge.set_index('Mouse ID')\n",
    "cleaned_mouse_study = mouse_study_index.drop(index = 'g989')\n",
    "mouse_study = cleaned_mouse_study.reset_index()"
   ]
  },
  {
   "cell_type": "code",
   "execution_count": 5,
   "metadata": {},
   "outputs": [
    {
     "data": {
      "text/plain": [
       "248"
      ]
     },
     "execution_count": 5,
     "metadata": {},
     "output_type": "execute_result"
    }
   ],
   "source": [
    "# Checking the number of mice in the clean DataFrame.\n",
    "new_number_of_mice = mouse_study['Mouse ID'].nunique()\n",
    "new_number_of_mice"
   ]
  },
  {
   "cell_type": "code",
   "execution_count": 6,
   "metadata": {},
   "outputs": [
    {
     "data": {
      "text/html": [
       "<div>\n",
       "<style scoped>\n",
       "    .dataframe tbody tr th:only-of-type {\n",
       "        vertical-align: middle;\n",
       "    }\n",
       "\n",
       "    .dataframe tbody tr th {\n",
       "        vertical-align: top;\n",
       "    }\n",
       "\n",
       "    .dataframe thead th {\n",
       "        text-align: right;\n",
       "    }\n",
       "</style>\n",
       "<table border=\"1\" class=\"dataframe\">\n",
       "  <thead>\n",
       "    <tr style=\"text-align: right;\">\n",
       "      <th></th>\n",
       "      <th>Drug Regimen</th>\n",
       "      <th>Tumor Vol Mean</th>\n",
       "      <th>Tumor Vol Median</th>\n",
       "      <th>Tumor Vol Variance</th>\n",
       "      <th>Tumor Vol Standard Deviation</th>\n",
       "      <th>Tumor Vol SEM</th>\n",
       "    </tr>\n",
       "  </thead>\n",
       "  <tbody>\n",
       "    <tr>\n",
       "      <th>0</th>\n",
       "      <td>Capomulin</td>\n",
       "      <td>40.675741</td>\n",
       "      <td>41.557809</td>\n",
       "      <td>24.947764</td>\n",
       "      <td>4.994774</td>\n",
       "      <td>0.329346</td>\n",
       "    </tr>\n",
       "    <tr>\n",
       "      <th>1</th>\n",
       "      <td>Ceftamin</td>\n",
       "      <td>52.591172</td>\n",
       "      <td>51.776157</td>\n",
       "      <td>39.290177</td>\n",
       "      <td>6.268188</td>\n",
       "      <td>0.469821</td>\n",
       "    </tr>\n",
       "    <tr>\n",
       "      <th>2</th>\n",
       "      <td>Infubinol</td>\n",
       "      <td>52.884795</td>\n",
       "      <td>51.820584</td>\n",
       "      <td>43.128684</td>\n",
       "      <td>6.567243</td>\n",
       "      <td>0.492236</td>\n",
       "    </tr>\n",
       "    <tr>\n",
       "      <th>3</th>\n",
       "      <td>Ketapril</td>\n",
       "      <td>55.235638</td>\n",
       "      <td>53.698743</td>\n",
       "      <td>68.553577</td>\n",
       "      <td>8.279709</td>\n",
       "      <td>0.603860</td>\n",
       "    </tr>\n",
       "    <tr>\n",
       "      <th>4</th>\n",
       "      <td>Naftisol</td>\n",
       "      <td>54.331565</td>\n",
       "      <td>52.509285</td>\n",
       "      <td>66.173479</td>\n",
       "      <td>8.134708</td>\n",
       "      <td>0.596466</td>\n",
       "    </tr>\n",
       "    <tr>\n",
       "      <th>5</th>\n",
       "      <td>Placebo</td>\n",
       "      <td>54.033581</td>\n",
       "      <td>52.288934</td>\n",
       "      <td>61.168083</td>\n",
       "      <td>7.821003</td>\n",
       "      <td>0.581331</td>\n",
       "    </tr>\n",
       "    <tr>\n",
       "      <th>6</th>\n",
       "      <td>Propriva</td>\n",
       "      <td>52.320930</td>\n",
       "      <td>50.446266</td>\n",
       "      <td>43.852013</td>\n",
       "      <td>6.622085</td>\n",
       "      <td>0.544332</td>\n",
       "    </tr>\n",
       "    <tr>\n",
       "      <th>7</th>\n",
       "      <td>Ramicane</td>\n",
       "      <td>40.216745</td>\n",
       "      <td>40.673236</td>\n",
       "      <td>23.486704</td>\n",
       "      <td>4.846308</td>\n",
       "      <td>0.320955</td>\n",
       "    </tr>\n",
       "    <tr>\n",
       "      <th>8</th>\n",
       "      <td>Stelasyn</td>\n",
       "      <td>54.233149</td>\n",
       "      <td>52.431737</td>\n",
       "      <td>59.450562</td>\n",
       "      <td>7.710419</td>\n",
       "      <td>0.573111</td>\n",
       "    </tr>\n",
       "    <tr>\n",
       "      <th>9</th>\n",
       "      <td>Zoniferol</td>\n",
       "      <td>53.236507</td>\n",
       "      <td>51.818479</td>\n",
       "      <td>48.533355</td>\n",
       "      <td>6.966589</td>\n",
       "      <td>0.516398</td>\n",
       "    </tr>\n",
       "  </tbody>\n",
       "</table>\n",
       "</div>"
      ],
      "text/plain": [
       "  Drug Regimen  Tumor Vol Mean  Tumor Vol Median  Tumor Vol Variance  \\\n",
       "0    Capomulin       40.675741         41.557809           24.947764   \n",
       "1     Ceftamin       52.591172         51.776157           39.290177   \n",
       "2    Infubinol       52.884795         51.820584           43.128684   \n",
       "3     Ketapril       55.235638         53.698743           68.553577   \n",
       "4     Naftisol       54.331565         52.509285           66.173479   \n",
       "5      Placebo       54.033581         52.288934           61.168083   \n",
       "6     Propriva       52.320930         50.446266           43.852013   \n",
       "7     Ramicane       40.216745         40.673236           23.486704   \n",
       "8     Stelasyn       54.233149         52.431737           59.450562   \n",
       "9    Zoniferol       53.236507         51.818479           48.533355   \n",
       "\n",
       "   Tumor Vol Standard Deviation  Tumor Vol SEM  \n",
       "0                      4.994774       0.329346  \n",
       "1                      6.268188       0.469821  \n",
       "2                      6.567243       0.492236  \n",
       "3                      8.279709       0.603860  \n",
       "4                      8.134708       0.596466  \n",
       "5                      7.821003       0.581331  \n",
       "6                      6.622085       0.544332  \n",
       "7                      4.846308       0.320955  \n",
       "8                      7.710419       0.573111  \n",
       "9                      6.966589       0.516398  "
      ]
     },
     "execution_count": 6,
     "metadata": {},
     "output_type": "execute_result"
    }
   ],
   "source": [
    "# Group cleaned_mouse_study by regimen\n",
    "grouped_regimen = mouse_study.groupby('Drug Regimen')\n",
    "\n",
    "# Generate a summary statistics table of mean, median, variance, standard deviation, and SEM of the tumor volume for each regimen\n",
    "tumor_vol_mean = grouped_regimen['Tumor Volume (mm3)'].mean()\n",
    "tumor_vol_median = grouped_regimen['Tumor Volume (mm3)'].median()\n",
    "tumor_vol_variance = grouped_regimen['Tumor Volume (mm3)'].var()\n",
    "tumor_vol_std = grouped_regimen['Tumor Volume (mm3)'].std()\n",
    "tumor_vol_sem = grouped_regimen['Tumor Volume (mm3)'].sem()\n",
    "\n",
    "# This method is the most straighforward, creating multiple series and putting them all together at the end.\n",
    "tumor_vol_summary = pd.DataFrame({'Tumor Vol Mean': tumor_vol_mean,\n",
    "                                'Tumor Vol Median': tumor_vol_median,\n",
    "                                'Tumor Vol Variance': tumor_vol_variance,\n",
    "                                'Tumor Vol Standard Deviation': tumor_vol_std,\n",
    "                                'Tumor Vol SEM': tumor_vol_sem}).reset_index()\n",
    "tumor_vol_summary"
   ]
  },
  {
   "cell_type": "code",
   "execution_count": 7,
   "metadata": {},
   "outputs": [
    {
     "data": {
      "text/html": [
       "<div>\n",
       "<style scoped>\n",
       "    .dataframe tbody tr th:only-of-type {\n",
       "        vertical-align: middle;\n",
       "    }\n",
       "\n",
       "    .dataframe tbody tr th {\n",
       "        vertical-align: top;\n",
       "    }\n",
       "\n",
       "    .dataframe thead th {\n",
       "        text-align: right;\n",
       "    }\n",
       "</style>\n",
       "<table border=\"1\" class=\"dataframe\">\n",
       "  <thead>\n",
       "    <tr style=\"text-align: right;\">\n",
       "      <th></th>\n",
       "      <th>Drug Regimen</th>\n",
       "      <th>mean</th>\n",
       "      <th>median</th>\n",
       "      <th>var</th>\n",
       "      <th>std</th>\n",
       "      <th>sem</th>\n",
       "    </tr>\n",
       "  </thead>\n",
       "  <tbody>\n",
       "    <tr>\n",
       "      <th>0</th>\n",
       "      <td>Capomulin</td>\n",
       "      <td>40.675741</td>\n",
       "      <td>41.557809</td>\n",
       "      <td>24.947764</td>\n",
       "      <td>4.994774</td>\n",
       "      <td>0.329346</td>\n",
       "    </tr>\n",
       "    <tr>\n",
       "      <th>1</th>\n",
       "      <td>Ceftamin</td>\n",
       "      <td>52.591172</td>\n",
       "      <td>51.776157</td>\n",
       "      <td>39.290177</td>\n",
       "      <td>6.268188</td>\n",
       "      <td>0.469821</td>\n",
       "    </tr>\n",
       "    <tr>\n",
       "      <th>2</th>\n",
       "      <td>Infubinol</td>\n",
       "      <td>52.884795</td>\n",
       "      <td>51.820584</td>\n",
       "      <td>43.128684</td>\n",
       "      <td>6.567243</td>\n",
       "      <td>0.492236</td>\n",
       "    </tr>\n",
       "    <tr>\n",
       "      <th>3</th>\n",
       "      <td>Ketapril</td>\n",
       "      <td>55.235638</td>\n",
       "      <td>53.698743</td>\n",
       "      <td>68.553577</td>\n",
       "      <td>8.279709</td>\n",
       "      <td>0.603860</td>\n",
       "    </tr>\n",
       "    <tr>\n",
       "      <th>4</th>\n",
       "      <td>Naftisol</td>\n",
       "      <td>54.331565</td>\n",
       "      <td>52.509285</td>\n",
       "      <td>66.173479</td>\n",
       "      <td>8.134708</td>\n",
       "      <td>0.596466</td>\n",
       "    </tr>\n",
       "    <tr>\n",
       "      <th>5</th>\n",
       "      <td>Placebo</td>\n",
       "      <td>54.033581</td>\n",
       "      <td>52.288934</td>\n",
       "      <td>61.168083</td>\n",
       "      <td>7.821003</td>\n",
       "      <td>0.581331</td>\n",
       "    </tr>\n",
       "    <tr>\n",
       "      <th>6</th>\n",
       "      <td>Propriva</td>\n",
       "      <td>52.320930</td>\n",
       "      <td>50.446266</td>\n",
       "      <td>43.852013</td>\n",
       "      <td>6.622085</td>\n",
       "      <td>0.544332</td>\n",
       "    </tr>\n",
       "    <tr>\n",
       "      <th>7</th>\n",
       "      <td>Ramicane</td>\n",
       "      <td>40.216745</td>\n",
       "      <td>40.673236</td>\n",
       "      <td>23.486704</td>\n",
       "      <td>4.846308</td>\n",
       "      <td>0.320955</td>\n",
       "    </tr>\n",
       "    <tr>\n",
       "      <th>8</th>\n",
       "      <td>Stelasyn</td>\n",
       "      <td>54.233149</td>\n",
       "      <td>52.431737</td>\n",
       "      <td>59.450562</td>\n",
       "      <td>7.710419</td>\n",
       "      <td>0.573111</td>\n",
       "    </tr>\n",
       "    <tr>\n",
       "      <th>9</th>\n",
       "      <td>Zoniferol</td>\n",
       "      <td>53.236507</td>\n",
       "      <td>51.818479</td>\n",
       "      <td>48.533355</td>\n",
       "      <td>6.966589</td>\n",
       "      <td>0.516398</td>\n",
       "    </tr>\n",
       "  </tbody>\n",
       "</table>\n",
       "</div>"
      ],
      "text/plain": [
       "  Drug Regimen       mean     median        var       std       sem\n",
       "0    Capomulin  40.675741  41.557809  24.947764  4.994774  0.329346\n",
       "1     Ceftamin  52.591172  51.776157  39.290177  6.268188  0.469821\n",
       "2    Infubinol  52.884795  51.820584  43.128684  6.567243  0.492236\n",
       "3     Ketapril  55.235638  53.698743  68.553577  8.279709  0.603860\n",
       "4     Naftisol  54.331565  52.509285  66.173479  8.134708  0.596466\n",
       "5      Placebo  54.033581  52.288934  61.168083  7.821003  0.581331\n",
       "6     Propriva  52.320930  50.446266  43.852013  6.622085  0.544332\n",
       "7     Ramicane  40.216745  40.673236  23.486704  4.846308  0.320955\n",
       "8     Stelasyn  54.233149  52.431737  59.450562  7.710419  0.573111\n",
       "9    Zoniferol  53.236507  51.818479  48.533355  6.966589  0.516398"
      ]
     },
     "execution_count": 7,
     "metadata": {},
     "output_type": "execute_result"
    }
   ],
   "source": [
    "# Generate a summary statistics table of mean, median, variance, standard deviation, and SEM of the tumor volume for each regimen\n",
    "tumor_vol_summary2 = grouped_regimen.agg(['mean', 'median', 'var', 'std', 'sem'])['Tumor Volume (mm3)'].reset_index()\n",
    "# This method produces everything in a single groupby function\n",
    "tumor_vol_summary2"
   ]
  },
  {
   "cell_type": "markdown",
   "metadata": {},
   "source": [
    "## Bar and Pie Charts"
   ]
  },
  {
   "cell_type": "code",
   "execution_count": 8,
   "metadata": {},
   "outputs": [
    {
     "data": {
      "text/plain": [
       "Text(0, 0.5, 'Number of Data Points')"
      ]
     },
     "execution_count": 8,
     "metadata": {},
     "output_type": "execute_result"
    },
    {
     "data": {
      "image/png": "[encoded data removed]",
      "text/plain": [
       "<Figure size 432x288 with 1 Axes>"
      ]
     },
     "metadata": {
      "needs_background": "light"
     },
     "output_type": "display_data"
    }
   ],
   "source": [
    "# Generate a bar plot showing the total number of mice for each treatment throughout the course of the study using pandas.\n",
    "regimen_count = grouped_regimen['Drug Regimen'].count()\n",
    "\n",
    "panda_plot = regimen_count.plot(kind=\"bar\", title=\"Number of Data Points per Regimen\")\n",
    "panda_plot.set_ylabel(\"Number of Data Points\")"
   ]
  },
  {
   "cell_type": "code",
   "execution_count": 9,
   "metadata": {},
   "outputs": [
    {
     "data": {
      "image/png": "[encoded data removed]",
      "text/plain": [
       "<Figure size 432x288 with 1 Axes>"
      ]
     },
     "metadata": {
      "needs_background": "light"
     },
     "output_type": "display_data"
    }
   ],
   "source": [
    "# Generate a bar plot showing the total number of mice for each treatment throughout the course of the study using pyplot.\n",
    "drug_regimens = mouse_study[\"Drug Regimen\"]\n",
    "drug_regimens_list = []\n",
    "# tumor_vol_summary.index.tolist()\n",
    "for x in drug_regimens: \n",
    "    # check if exists in unique_list or not \n",
    "    if x not in drug_regimens_list: \n",
    "        drug_regimens_list.append(x) \n",
    "\n",
    "drug_regimens_list.sort()\n",
    "            \n",
    "x_axis = np.arange(len(grouped_regimen))\n",
    "xticks = [x for x in x_axis]\n",
    "plt.bar(x_axis, regimen_count)\n",
    "plt.title(\"Number of Data Points per Regimen\")\n",
    "plt.ylabel(\"Number of Data Point\")\n",
    "plt.xticks(xticks, drug_regimens_list, rotation='vertical')\n",
    "plt.show()"
   ]
  },
  {
   "cell_type": "code",
   "execution_count": 10,
   "metadata": {},
   "outputs": [
    {
     "data": {
      "text/plain": [
       "<matplotlib.axes._subplots.AxesSubplot at 0x21aaee37d88>"
      ]
     },
     "execution_count": 10,
     "metadata": {},
     "output_type": "execute_result"
    },
    {
     "data": {
      "image/png": "[encoded data removed]",
      "text/plain": [
       "<Figure size 432x288 with 1 Axes>"
      ]
     },
     "metadata": {},
     "output_type": "display_data"
    }
   ],
   "source": [
    "# Generate a pie plot showing the distribution of female versus male mice using pandas\n",
    "mouse_gender_group = mouse_study.groupby(['Sex'])\n",
    "gender_count = mouse_gender_group['Sex'].count()\n",
    "\n",
    "gender_dist_pie_chart = gender_count.plot(kind=\"pie\", autopct='%1.0f%%', title='Percentage of Male and Female Mice')\n",
    "gender_dist_pie_chart"
   ]
  },
  {
   "cell_type": "code",
   "execution_count": 11,
   "metadata": {},
   "outputs": [
    {
     "data": {
      "image/png": "[encoded data removed]",
      "text/plain": [
       "<Figure size 432x288 with 1 Axes>"
      ]
     },
     "metadata": {},
     "output_type": "display_data"
    }
   ],
   "source": [
    "# Generate a pie plot showing the distribution of female versus male mice using pyplot\n",
    "labels = ['Female', 'Male']\n",
    "plt.pie(gender_count, labels=labels, autopct='%1.0f%%')\n",
    "\n",
    "plt.show()"
   ]
  },
  {
   "cell_type": "markdown",
   "metadata": {},
   "source": [
    "## Quartiles, Outliers and Boxplots"
   ]
  },
  {
   "cell_type": "code",
   "execution_count": 12,
   "metadata": {},
   "outputs": [
    {
     "name": "stdout",
     "output_type": "stream",
     "text": [
      "The lower quartile of Capomulin is: 32.38\n",
      "The upper quartile of Capomulin is: 40.16\n",
      "The interquartile range of Capomulin is: 7.78\n",
      "----------------------------------------------\n",
      "Values below 20.7 could be outliers.\n",
      "Values above 51.83 could be outliers.\n"
     ]
    }
   ],
   "source": [
    "# Calculate the final tumor volume of each mouse across four of the treatment regimens:  \n",
    "# Capomulin, Ramicane, Infubinol, and Ceftamin\n",
    "# https://stackoverflow.com/questions/15741759/find-maximum-value-of-a-column-and-return-the-corresponding-row-values-using-pan\n",
    "# https://pandas.pydata.org/pandas-docs/stable/reference/api/pandas.DataFrame.isin.html\n",
    "# https://stackoverflow.com/questions/17071871/how-to-select-rows-from-a-dataframe-based-on-column-values\n",
    "\n",
    "# Start by getting the last (greatest) timepoint for each mouse\n",
    "capomulin = mouse_study[mouse_study[\"Drug Regimen\"].isin([\"Capomulin\"])]\n",
    "max_cap_mouse = capomulin.groupby(['Mouse ID', 'Drug Regimen'])['Timepoint'].max()\n",
    "\n",
    "# Merge this group df with the original dataframe to get the tumor volume at the last timepoint\n",
    "capomulin_merge = pd.merge(max_cap_mouse, mouse_study, on=('Mouse ID','Timepoint'))\n",
    "capomulin_tumor = capomulin_merge['Tumor Volume (mm3)']\n",
    "\n",
    "capomulin_quartiles = capomulin_merge['Tumor Volume (mm3)'].quantile([0.25,0.5,0.75])\n",
    "\n",
    "lowerq = capomulin_quartiles[0.25]\n",
    "upperq = capomulin_quartiles[0.75]\n",
    "iqr = upperq-lowerq\n",
    "\n",
    "print(f\"The lower quartile of Capomulin is: {round(lowerq, 2)}\")\n",
    "print(f\"The upper quartile of Capomulin is: {round(upperq, 2)}\")\n",
    "print(f\"The interquartile range of Capomulin is: {round(iqr, 2)}\")\n",
    "print(\"----------------------------------------------\")\n",
    "# Determine outliers using upper and lower bounds\n",
    "lower_bound = lowerq - (1.5*iqr)\n",
    "upper_bound = upperq + (1.5*iqr)\n",
    "print(f\"Values below {round(lower_bound, 2)} could be outliers.\")\n",
    "print(f\"Values above {round(upper_bound, 2)} could be outliers.\")"
   ]
  },
  {
   "cell_type": "code",
   "execution_count": 13,
   "metadata": {},
   "outputs": [
    {
     "name": "stdout",
     "output_type": "stream",
     "text": [
      "The lower quartile of Ramicane is: 31.56\n",
      "The upper quartile of Ramicane is: 40.66\n",
      "The interquartile range of Ramicane is: 9.1\n",
      "----------------------------------------------\n",
      "Values below 17.91 could be outliers.\n",
      "Values above 54.31 could be outliers.\n"
     ]
    }
   ],
   "source": [
    "ramicane = mouse_study[mouse_study[\"Drug Regimen\"].isin([\"Ramicane\"])]\n",
    "max_ram_mouse = ramicane.groupby(['Mouse ID', 'Drug Regimen'])['Timepoint'].max()\n",
    "ramicane_merge = pd.merge(max_ram_mouse, mouse_study, on=('Mouse ID','Timepoint'))\n",
    "ramicane_tumor = ramicane_merge['Tumor Volume (mm3)']\n",
    "\n",
    "ramicane_quartiles = ramicane_merge['Tumor Volume (mm3)'].quantile([0.25,0.5,0.75])\n",
    "\n",
    "lowerq = ramicane_quartiles[0.25]\n",
    "upperq = ramicane_quartiles[0.75]\n",
    "iqr = upperq-lowerq\n",
    "\n",
    "print(f\"The lower quartile of Ramicane is: {round(lowerq, 2)}\")\n",
    "print(f\"The upper quartile of Ramicane is: {round(upperq, 2)}\")\n",
    "print(f\"The interquartile range of Ramicane is: {round(iqr, 2)}\")\n",
    "print(\"----------------------------------------------\")\n",
    "# Determine outliers using upper and lower bounds\n",
    "lower_bound = lowerq - (1.5*iqr)\n",
    "upper_bound = upperq + (1.5*iqr)\n",
    "print(f\"Values below {round(lower_bound, 2)} could be outliers.\")\n",
    "print(f\"Values above {round(upper_bound, 2)} could be outliers.\")"
   ]
  },
  {
   "cell_type": "code",
   "execution_count": 14,
   "metadata": {},
   "outputs": [
    {
     "name": "stdout",
     "output_type": "stream",
     "text": [
      "The lower quartile of Infubinol is: 54.05\n",
      "The upper quartile of Infubinol is: 65.53\n",
      "The interquartile range of Infubinol is: 11.48\n",
      "----------------------------------------------\n",
      "Values below 36.83 could be outliers.\n",
      "Values above 82.74 could be outliers.\n"
     ]
    }
   ],
   "source": [
    "infubinol = mouse_study[mouse_study[\"Drug Regimen\"].isin([\"Infubinol\"])]\n",
    "max_inf_mouse = infubinol.groupby(['Mouse ID', 'Drug Regimen'])['Timepoint'].max()\n",
    "infubinol_merge = pd.merge(max_inf_mouse, mouse_study, on=('Mouse ID','Timepoint'))\n",
    "infubinol_tumor = infubinol_merge['Tumor Volume (mm3)']\n",
    "\n",
    "inf_quartiles = infubinol_merge['Tumor Volume (mm3)'].quantile([0.25,0.5,0.75])\n",
    "\n",
    "lowerq = inf_quartiles[0.25]\n",
    "upperq = inf_quartiles[0.75]\n",
    "iqr = upperq-lowerq\n",
    "\n",
    "print(f\"The lower quartile of Infubinol is: {round(lowerq, 2)}\")\n",
    "print(f\"The upper quartile of Infubinol is: {round(upperq, 2)}\")\n",
    "print(f\"The interquartile range of Infubinol is: {round(iqr, 2)}\")\n",
    "print(\"----------------------------------------------\")\n",
    "# Determine outliers using upper and lower bounds\n",
    "lower_bound = lowerq - (1.5*iqr)\n",
    "upper_bound = upperq + (1.5*iqr)\n",
    "print(f\"Values below {round(lower_bound, 2)} could be outliers.\")\n",
    "print(f\"Values above {round(upper_bound, 2)} could be outliers.\")"
   ]
  },
  {
   "cell_type": "code",
   "execution_count": 15,
   "metadata": {},
   "outputs": [
    {
     "name": "stdout",
     "output_type": "stream",
     "text": [
      "The lower quartile of Ceftamin is: 48.72\n",
      "The upper quartile of Ceftamin is: 64.3\n",
      "The interquartile range of Ceftamin is: 15.58\n",
      "----------------------------------------------\n",
      "Values below 25.36 could be outliers.\n",
      "Values above 87.67 could be outliers.\n"
     ]
    }
   ],
   "source": [
    "ceftamin = mouse_study[mouse_study[\"Drug Regimen\"].isin([\"Ceftamin\"])]\n",
    "max_cef_mouse = ceftamin.groupby(['Mouse ID', 'Drug Regimen'])['Timepoint'].max()\n",
    "ceftamin_merge = pd.merge(max_cef_mouse, mouse_study, on=('Mouse ID','Timepoint'))\n",
    "ceftamin_tumor = ceftamin_merge['Tumor Volume (mm3)']\n",
    "\n",
    "# Calculate the IQR and quantitatively determine if there are any potential outliers. \n",
    "ceftamin_quartiles = ceftamin_merge['Tumor Volume (mm3)'].quantile([0.25,0.5,0.75])\n",
    "lowerq = ceftamin_quartiles[0.25]\n",
    "upperq = ceftamin_quartiles[0.75]\n",
    "iqr = upperq-lowerq\n",
    "print(f\"The lower quartile of Ceftamin is: {round(lowerq, 2)}\")\n",
    "print(f\"The upper quartile of Ceftamin is: {round(upperq, 2)}\")\n",
    "print(f\"The interquartile range of Ceftamin is: {round(iqr, 2)}\")\n",
    "print(\"----------------------------------------------\")\n",
    "# Determine outliers using upper and lower bounds\n",
    "lower_bound = lowerq - (1.5*iqr)\n",
    "upper_bound = upperq + (1.5*iqr)\n",
    "print(f\"Values below {round(lower_bound, 2)} could be outliers.\")\n",
    "print(f\"Values above {round(upper_bound, 2)} could be outliers.\")"
   ]
  },
  {
   "cell_type": "code",
   "execution_count": 22,
   "metadata": {},
   "outputs": [
    {
     "data": {
      "image/png": "[encoded data removed]",
      "text/plain": [
       "<Figure size 432x288 with 1 Axes>"
      ]
     },
     "metadata": {
      "needs_background": "light"
     },
     "output_type": "display_data"
    }
   ],
   "source": [
    "# Put treatments into a list for for loop (and later for plot labels)\n",
    "treatment_list = ['Capomulin', 'Ramicane', 'Infubinol', 'Ceftamin']\n",
    "\n",
    "# Create empty list to fill with tumor vol data (for plotting)\n",
    "tumor_vol_data = [capomulin_tumor, ramicane_tumor, infubinol_tumor, ceftamin_tumor]\n",
    "\n",
    "# Generate a box plot of the final tumor volume of each mouse across four regimens of interest\n",
    "green_diamond = dict(markerfacecolor='g', marker='D')\n",
    "fig1, ax1 = plt.subplots()\n",
    "ax1.set_title('Final Tumor Volume For Each Drug Regimen')\n",
    "ax1.set_ylabel('Final Tumor Volume (mm3)')\n",
    "ax1.set_xlabel('Drug Regimen')\n",
    "ax1.boxplot(tumor_vol_data, labels=treatment_list, flierprops=green_diamond)\n",
    "plt.show()"
   ]
  },
  {
   "cell_type": "markdown",
   "metadata": {},
   "source": [
    "## Line and Scatter Plots"
   ]
  },
  {
   "cell_type": "code",
   "execution_count": 33,
   "metadata": {},
   "outputs": [
    {
     "data": {
      "image/png": "[encoded data removed]",
      "text/plain": [
       "<Figure size 432x288 with 1 Axes>"
      ]
     },
     "metadata": {
      "needs_background": "light"
     },
     "output_type": "display_data"
    }
   ],
   "source": [
    "# Generate a line plot of time point versus tumor volume for a mouse treated with Capomulin\n",
    "j119_df = capomulin.loc[capomulin[\"Mouse ID\"] == \"j119\"]\n",
    "\n",
    "line_xaxis = j119_df[\"Timepoint\"]\n",
    "line_yaxis = j119_df[\"Tumor Volume (mm3)\"]\n",
    "plt.title('Timepoint versus Tumor Volume for Mouse ID j119')\n",
    "plt.ylabel('Tumor Volume (mm3) Size')\n",
    "plt.xlabel('Timepoints')\n",
    "plt.plot(line_xaxis, line_yaxis)\n",
    "\n",
    "plt.show()"
   ]
  },
  {
   "cell_type": "code",
   "execution_count": 18,
   "metadata": {},
   "outputs": [
    {
     "data": {
      "image/png": "[encoded data removed]",
      "text/plain": [
       "<Figure size 432x288 with 1 Axes>"
      ]
     },
     "metadata": {
      "needs_background": "light"
     },
     "output_type": "display_data"
    }
   ],
   "source": [
    "# Generate a scatter plot of mouse weight versus average tumor volume for the Capomulin regimen\n",
    "capomulin_avg = capomulin.groupby(['Mouse ID']).mean().reset_index()\n",
    "plt.scatter(capomulin_avg['Weight (g)'], capomulin_avg['Tumor Volume (mm3)'])\n",
    "plt.title('Timepoint versus Tumor Volume for Mouse ID j119')\n",
    "plt.ylabel('Tumor Volume (mm3) Size')\n",
    "plt.xlabel('Timepoints')\n",
    "plt.show()"
   ]
  },
  {
   "cell_type": "markdown",
   "metadata": {},
   "source": [
    "## Correlation and Regression"
   ]
  },
  {
   "cell_type": "code",
   "execution_count": 34,
   "metadata": {},
   "outputs": [
    {
     "name": "stdout",
     "output_type": "stream",
     "text": [
      "The correlation between mouse weight and average tumor volume for mice treated with Capomulin is 0.84\n"
     ]
    },
    {
     "data": {
      "image/png": "[encoded data removed]",
      "text/plain": [
       "<Figure size 432x288 with 1 Axes>"
      ]
     },
     "metadata": {
      "needs_background": "light"
     },
     "output_type": "display_data"
    }
   ],
   "source": [
    "# Calculate the correlation coefficient and linear regression model \n",
    "# for mouse weight and average tumor volume for the Capomulin regimen\n",
    "\n",
    "correlation = round(st.pearsonr(capomulin_avg['Weight (g)'],capomulin_avg['Tumor Volume (mm3)'])[0],2)\n",
    "\n",
    "x_values = capomulin_avg['Weight (g)']\n",
    "y_values = capomulin_avg['Tumor Volume (mm3)']\n",
    "(slope, intercept, rvalue, pvalue, stderr) = st.linregress(x_values, y_values)\n",
    "regress_values = x_values * slope + intercept\n",
    "line_eq = \"y = \" + str(round(slope,2)) + \"x + \" + str(round(intercept,2))\n",
    "plt.title('Timepoint versus Tumor Volume for Mouse ID j119')\n",
    "plt.ylabel('Tumor Volume (mm3) Size')\n",
    "plt.xlabel('Timepoints')\n",
    "plt.scatter(x_values,y_values)\n",
    "plt.plot(x_values,regress_values,\"r-\")\n",
    "plt.annotate(line_eq,(6,10),fontsize=15,color=\"red\")\n",
    "print(f\"The correlation between mouse weight and average tumor volume for mice treated with Capomulin is {correlation}\")\n",
    "plt.show()"
   ]
  },
  {
   "cell_type": "code",
   "execution_count": null,
   "metadata": {},
   "outputs": [],
   "source": []
  }
 ],
 "metadata": {
  "anaconda-cloud": {},
  "kernelspec": {
   "display_name": "Python 3",
   "language": "python",
   "name": "python3"
  },
  "language_info": {
   "codemirror_mode": {
    "name": "ipython",
    "version": 3
   },
   "file_extension": ".py",
   "mimetype": "text/x-python",
   "name": "python",
   "nbconvert_exporter": "python",
   "pygments_lexer": "ipython3",
   "version": "3.7.6"
  }
 },
 "nbformat": 4,
 "nbformat_minor": 2
}
